{
 "cells": [
  {
   "cell_type": "markdown",
   "metadata": {},
   "source": [
    "# Introduction"
   ]
  },
  {
   "cell_type": "markdown",
   "metadata": {},
   "source": [
    "## What is an Algorithm?\n",
    "In this tutorial, we will learn what algorithms are with the help of examples.\n",
    "\n",
    "In computer programming terms, an algorithm is a set of well-defined instructions to solve a particular problem. It takes a set of input(s) and produces the desired output. For example,\n",
    "\n",
    "An algorithm to add two numbers:\n",
    "\n",
    "1. Take two number inputs\n",
    "\n",
    "2. Add numbers using the + operator\n",
    "\n",
    "3. Display the result"
   ]
  },
  {
   "cell_type": "markdown",
   "metadata": {},
   "source": [
    "### Qualities of a Good Algorithm\n",
    "-Input and output should be defined precisely.\n",
    "\n",
    "-Each step in the algorithm should be clear and unambiguous.\n",
    "\n",
    "-Algorithms should be most effective among many different ways to solve a problem.\n",
    "\n",
    "-An algorithm shouldn't include computer code. Instead, the algorithm should be written in such a way that it can be used in -different programming languages."
   ]
  },
  {
   "cell_type": "code",
   "execution_count": null,
   "metadata": {},
   "outputs": [],
   "source": []
  },
  {
   "cell_type": "code",
   "execution_count": null,
   "metadata": {},
   "outputs": [],
   "source": []
  }
 ],
 "metadata": {
  "kernelspec": {
   "display_name": "Python 3",
   "language": "python",
   "name": "python3"
  },
  "language_info": {
   "codemirror_mode": {
    "name": "ipython",
    "version": 3
   },
   "file_extension": ".py",
   "mimetype": "text/x-python",
   "name": "python",
   "nbconvert_exporter": "python",
   "pygments_lexer": "ipython3",
   "version": "3.8.3"
  }
 },
 "nbformat": 4,
 "nbformat_minor": 4
}
